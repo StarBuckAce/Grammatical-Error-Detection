{
  "cells": [
    {
      "cell_type": "markdown",
      "metadata": {
        "id": "FNGAKlI6mNwN"
      },
      "source": [
        "# **Data Preprocessing**"
      ]
    },
    {
      "cell_type": "code",
      "execution_count": 3,
      "metadata": {
        "colab": {
          "base_uri": "https://localhost:8080/"
        },
        "id": "Bzsbyc0saRLf",
        "outputId": "7783dbde-3779-456e-e550-38d4e0504ac1"
      },
      "outputs": [
        {
          "name": "stderr",
          "output_type": "stream",
          "text": [
            "[nltk_data] Downloading package punkt to /root/nltk_data...\n",
            "[nltk_data]   Unzipping tokenizers/punkt.zip.\n",
            "[nltk_data] Downloading package stopwords to /root/nltk_data...\n",
            "[nltk_data]   Unzipping corpora/stopwords.zip.\n",
            "[nltk_data] Downloading package wordnet to /root/nltk_data...\n",
            "[nltk_data] Downloading package averaged_perceptron_tagger to\n",
            "[nltk_data]     /root/nltk_data...\n",
            "[nltk_data]   Unzipping taggers/averaged_perceptron_tagger.zip.\n"
          ]
        }
      ],
      "source": [
        "import pandas as pd\n",
        "import numpy as np\n",
        "import matplotlib.pyplot as plt\n",
        "import seaborn as sns\n",
        "import nltk\n",
        "import re\n",
        "from nltk.corpus import stopwords\n",
        "from nltk.tokenize import word_tokenize\n",
        "from nltk.stem import WordNetLemmatizer\n",
        "from sklearn.model_selection import train_test_split\n",
        "from sklearn.feature_extraction.text import TfidfVectorizer,CountVectorizer\n",
        "from sklearn.naive_bayes import MultinomialNB\n",
        "from sklearn.metrics import accuracy_score, classification_report\n",
        "from nltk import pos_tag\n",
        "from nltk.util import ngrams\n",
        "from collections import Counter\n",
        "\n",
        "nltk.download('punkt')\n",
        "nltk.download('stopwords')\n",
        "nltk.download('wordnet')\n",
        "nltk.download('averaged_perceptron_tagger')\n",
        "\n",
        "df=pd.read_csv('/content/All_train_data.csv')\n"
      ]
    },
    {
      "cell_type": "code",
      "execution_count": 4,
      "metadata": {
        "colab": {
          "base_uri": "https://localhost:8080/",
          "height": 206
        },
        "id": "DlBS4XQBcnAE",
        "outputId": "a8f98d80-ec44-4bbb-808f-9a20b314c759"
      },
      "outputs": [
        {
          "data": {
            "application/vnd.google.colaboratory.intrinsic+json": {
              "summary": "{\n  \"name\": \"df\",\n  \"rows\": 29998,\n  \"fields\": [\n    {\n      \"column\": \"input\",\n      \"properties\": {\n        \"dtype\": \"string\",\n        \"num_unique_values\": 24470,\n        \"samples\": [\n          \"Anyway , I am going to keep using the soap shampoo for a while .\",\n          \"Curl is more natural and volume is getting smaller .\",\n          \"I draw anything .\"\n        ],\n        \"semantic_type\": \"\",\n        \"description\": \"\"\n      }\n    },\n    {\n      \"column\": \"labels\",\n      \"properties\": {\n        \"dtype\": \"number\",\n        \"std\": 0,\n        \"min\": 0,\n        \"max\": 1,\n        \"num_unique_values\": 2,\n        \"samples\": [\n          1,\n          0\n        ],\n        \"semantic_type\": \"\",\n        \"description\": \"\"\n      }\n    }\n  ]\n}",
              "type": "dataframe",
              "variable_name": "df"
            },
            "text/html": [
              "\n",
              "  <div id=\"df-77acf636-c30c-4234-b6d1-edd8b9285d7e\" class=\"colab-df-container\">\n",
              "    <div>\n",
              "<style scoped>\n",
              "    .dataframe tbody tr th:only-of-type {\n",
              "        vertical-align: middle;\n",
              "    }\n",
              "\n",
              "    .dataframe tbody tr th {\n",
              "        vertical-align: top;\n",
              "    }\n",
              "\n",
              "    .dataframe thead th {\n",
              "        text-align: right;\n",
              "    }\n",
              "</style>\n",
              "<table border=\"1\" class=\"dataframe\">\n",
              "  <thead>\n",
              "    <tr style=\"text-align: right;\">\n",
              "      <th></th>\n",
              "      <th>input</th>\n",
              "      <th>labels</th>\n",
              "    </tr>\n",
              "  </thead>\n",
              "  <tbody>\n",
              "    <tr>\n",
              "      <th>0</th>\n",
              "      <td>I am reading score of Mahler is Symphony No . .</td>\n",
              "      <td>0</td>\n",
              "    </tr>\n",
              "    <tr>\n",
              "      <th>1</th>\n",
              "      <td>I am not interested in cars or electric applia...</td>\n",
              "      <td>1</td>\n",
              "    </tr>\n",
              "    <tr>\n",
              "      <th>2</th>\n",
              "      <td>This is my homework for my English class .</td>\n",
              "      <td>0</td>\n",
              "    </tr>\n",
              "    <tr>\n",
              "      <th>3</th>\n",
              "      <td>In comparison , Canada is catches increased an...</td>\n",
              "      <td>0</td>\n",
              "    </tr>\n",
              "    <tr>\n",
              "      <th>4</th>\n",
              "      <td>Fortunately , my older sister is friend is a d...</td>\n",
              "      <td>1</td>\n",
              "    </tr>\n",
              "  </tbody>\n",
              "</table>\n",
              "</div>\n",
              "    <div class=\"colab-df-buttons\">\n",
              "\n",
              "  <div class=\"colab-df-container\">\n",
              "    <button class=\"colab-df-convert\" onclick=\"convertToInteractive('df-77acf636-c30c-4234-b6d1-edd8b9285d7e')\"\n",
              "            title=\"Convert this dataframe to an interactive table.\"\n",
              "            style=\"display:none;\">\n",
              "\n",
              "  <svg xmlns=\"http://www.w3.org/2000/svg\" height=\"24px\" viewBox=\"0 -960 960 960\">\n",
              "    <path d=\"M120-120v-720h720v720H120Zm60-500h600v-160H180v160Zm220 220h160v-160H400v160Zm0 220h160v-160H400v160ZM180-400h160v-160H180v160Zm440 0h160v-160H620v160ZM180-180h160v-160H180v160Zm440 0h160v-160H620v160Z\"/>\n",
              "  </svg>\n",
              "    </button>\n",
              "\n",
              "  <style>\n",
              "    .colab-df-container {\n",
              "      display:flex;\n",
              "      gap: 12px;\n",
              "    }\n",
              "\n",
              "    .colab-df-convert {\n",
              "      background-color: #E8F0FE;\n",
              "      border: none;\n",
              "      border-radius: 50%;\n",
              "      cursor: pointer;\n",
              "      display: none;\n",
              "      fill: #1967D2;\n",
              "      height: 32px;\n",
              "      padding: 0 0 0 0;\n",
              "      width: 32px;\n",
              "    }\n",
              "\n",
              "    .colab-df-convert:hover {\n",
              "      background-color: #E2EBFA;\n",
              "      box-shadow: 0px 1px 2px rgba(60, 64, 67, 0.3), 0px 1px 3px 1px rgba(60, 64, 67, 0.15);\n",
              "      fill: #174EA6;\n",
              "    }\n",
              "\n",
              "    .colab-df-buttons div {\n",
              "      margin-bottom: 4px;\n",
              "    }\n",
              "\n",
              "    [theme=dark] .colab-df-convert {\n",
              "      background-color: #3B4455;\n",
              "      fill: #D2E3FC;\n",
              "    }\n",
              "\n",
              "    [theme=dark] .colab-df-convert:hover {\n",
              "      background-color: #434B5C;\n",
              "      box-shadow: 0px 1px 3px 1px rgba(0, 0, 0, 0.15);\n",
              "      filter: drop-shadow(0px 1px 2px rgba(0, 0, 0, 0.3));\n",
              "      fill: #FFFFFF;\n",
              "    }\n",
              "  </style>\n",
              "\n",
              "    <script>\n",
              "      const buttonEl =\n",
              "        document.querySelector('#df-77acf636-c30c-4234-b6d1-edd8b9285d7e button.colab-df-convert');\n",
              "      buttonEl.style.display =\n",
              "        google.colab.kernel.accessAllowed ? 'block' : 'none';\n",
              "\n",
              "      async function convertToInteractive(key) {\n",
              "        const element = document.querySelector('#df-77acf636-c30c-4234-b6d1-edd8b9285d7e');\n",
              "        const dataTable =\n",
              "          await google.colab.kernel.invokeFunction('convertToInteractive',\n",
              "                                                    [key], {});\n",
              "        if (!dataTable) return;\n",
              "\n",
              "        const docLinkHtml = 'Like what you see? Visit the ' +\n",
              "          '<a target=\"_blank\" href=https://colab.research.google.com/notebooks/data_table.ipynb>data table notebook</a>'\n",
              "          + ' to learn more about interactive tables.';\n",
              "        element.innerHTML = '';\n",
              "        dataTable['output_type'] = 'display_data';\n",
              "        await google.colab.output.renderOutput(dataTable, element);\n",
              "        const docLink = document.createElement('div');\n",
              "        docLink.innerHTML = docLinkHtml;\n",
              "        element.appendChild(docLink);\n",
              "      }\n",
              "    </script>\n",
              "  </div>\n",
              "\n",
              "\n",
              "<div id=\"df-37e2708a-b109-4324-828f-81bbce9d706b\">\n",
              "  <button class=\"colab-df-quickchart\" onclick=\"quickchart('df-37e2708a-b109-4324-828f-81bbce9d706b')\"\n",
              "            title=\"Suggest charts\"\n",
              "            style=\"display:none;\">\n",
              "\n",
              "<svg xmlns=\"http://www.w3.org/2000/svg\" height=\"24px\"viewBox=\"0 0 24 24\"\n",
              "     width=\"24px\">\n",
              "    <g>\n",
              "        <path d=\"M19 3H5c-1.1 0-2 .9-2 2v14c0 1.1.9 2 2 2h14c1.1 0 2-.9 2-2V5c0-1.1-.9-2-2-2zM9 17H7v-7h2v7zm4 0h-2V7h2v10zm4 0h-2v-4h2v4z\"/>\n",
              "    </g>\n",
              "</svg>\n",
              "  </button>\n",
              "\n",
              "<style>\n",
              "  .colab-df-quickchart {\n",
              "      --bg-color: #E8F0FE;\n",
              "      --fill-color: #1967D2;\n",
              "      --hover-bg-color: #E2EBFA;\n",
              "      --hover-fill-color: #174EA6;\n",
              "      --disabled-fill-color: #AAA;\n",
              "      --disabled-bg-color: #DDD;\n",
              "  }\n",
              "\n",
              "  [theme=dark] .colab-df-quickchart {\n",
              "      --bg-color: #3B4455;\n",
              "      --fill-color: #D2E3FC;\n",
              "      --hover-bg-color: #434B5C;\n",
              "      --hover-fill-color: #FFFFFF;\n",
              "      --disabled-bg-color: #3B4455;\n",
              "      --disabled-fill-color: #666;\n",
              "  }\n",
              "\n",
              "  .colab-df-quickchart {\n",
              "    background-color: var(--bg-color);\n",
              "    border: none;\n",
              "    border-radius: 50%;\n",
              "    cursor: pointer;\n",
              "    display: none;\n",
              "    fill: var(--fill-color);\n",
              "    height: 32px;\n",
              "    padding: 0;\n",
              "    width: 32px;\n",
              "  }\n",
              "\n",
              "  .colab-df-quickchart:hover {\n",
              "    background-color: var(--hover-bg-color);\n",
              "    box-shadow: 0 1px 2px rgba(60, 64, 67, 0.3), 0 1px 3px 1px rgba(60, 64, 67, 0.15);\n",
              "    fill: var(--button-hover-fill-color);\n",
              "  }\n",
              "\n",
              "  .colab-df-quickchart-complete:disabled,\n",
              "  .colab-df-quickchart-complete:disabled:hover {\n",
              "    background-color: var(--disabled-bg-color);\n",
              "    fill: var(--disabled-fill-color);\n",
              "    box-shadow: none;\n",
              "  }\n",
              "\n",
              "  .colab-df-spinner {\n",
              "    border: 2px solid var(--fill-color);\n",
              "    border-color: transparent;\n",
              "    border-bottom-color: var(--fill-color);\n",
              "    animation:\n",
              "      spin 1s steps(1) infinite;\n",
              "  }\n",
              "\n",
              "  @keyframes spin {\n",
              "    0% {\n",
              "      border-color: transparent;\n",
              "      border-bottom-color: var(--fill-color);\n",
              "      border-left-color: var(--fill-color);\n",
              "    }\n",
              "    20% {\n",
              "      border-color: transparent;\n",
              "      border-left-color: var(--fill-color);\n",
              "      border-top-color: var(--fill-color);\n",
              "    }\n",
              "    30% {\n",
              "      border-color: transparent;\n",
              "      border-left-color: var(--fill-color);\n",
              "      border-top-color: var(--fill-color);\n",
              "      border-right-color: var(--fill-color);\n",
              "    }\n",
              "    40% {\n",
              "      border-color: transparent;\n",
              "      border-right-color: var(--fill-color);\n",
              "      border-top-color: var(--fill-color);\n",
              "    }\n",
              "    60% {\n",
              "      border-color: transparent;\n",
              "      border-right-color: var(--fill-color);\n",
              "    }\n",
              "    80% {\n",
              "      border-color: transparent;\n",
              "      border-right-color: var(--fill-color);\n",
              "      border-bottom-color: var(--fill-color);\n",
              "    }\n",
              "    90% {\n",
              "      border-color: transparent;\n",
              "      border-bottom-color: var(--fill-color);\n",
              "    }\n",
              "  }\n",
              "</style>\n",
              "\n",
              "  <script>\n",
              "    async function quickchart(key) {\n",
              "      const quickchartButtonEl =\n",
              "        document.querySelector('#' + key + ' button');\n",
              "      quickchartButtonEl.disabled = true;  // To prevent multiple clicks.\n",
              "      quickchartButtonEl.classList.add('colab-df-spinner');\n",
              "      try {\n",
              "        const charts = await google.colab.kernel.invokeFunction(\n",
              "            'suggestCharts', [key], {});\n",
              "      } catch (error) {\n",
              "        console.error('Error during call to suggestCharts:', error);\n",
              "      }\n",
              "      quickchartButtonEl.classList.remove('colab-df-spinner');\n",
              "      quickchartButtonEl.classList.add('colab-df-quickchart-complete');\n",
              "    }\n",
              "    (() => {\n",
              "      let quickchartButtonEl =\n",
              "        document.querySelector('#df-37e2708a-b109-4324-828f-81bbce9d706b button');\n",
              "      quickchartButtonEl.style.display =\n",
              "        google.colab.kernel.accessAllowed ? 'block' : 'none';\n",
              "    })();\n",
              "  </script>\n",
              "</div>\n",
              "\n",
              "    </div>\n",
              "  </div>\n"
            ],
            "text/plain": [
              "                                               input  labels\n",
              "0    I am reading score of Mahler is Symphony No . .       0\n",
              "1  I am not interested in cars or electric applia...       1\n",
              "2         This is my homework for my English class .       0\n",
              "3  In comparison , Canada is catches increased an...       0\n",
              "4  Fortunately , my older sister is friend is a d...       1"
            ]
          },
          "execution_count": 4,
          "metadata": {},
          "output_type": "execute_result"
        }
      ],
      "source": [
        "df.head()"
      ]
    },
    {
      "cell_type": "code",
      "execution_count": 5,
      "metadata": {
        "colab": {
          "base_uri": "https://localhost:8080/"
        },
        "id": "jxZHuCQncoj_",
        "outputId": "26021194-ac36-467e-caa5-0c8655b0fdb9"
      },
      "outputs": [
        {
          "name": "stdout",
          "output_type": "stream",
          "text": [
            "\n",
            " Missing values in each column:\n",
            "input     0\n",
            "labels    0\n",
            "dtype: int64\n"
          ]
        }
      ],
      "source": [
        "#Checking for missing Values\n",
        "print(\"\\n Missing values in each column:\")\n",
        "print(df.isnull().sum())"
      ]
    },
    {
      "cell_type": "code",
      "execution_count": 6,
      "metadata": {
        "colab": {
          "base_uri": "https://localhost:8080/"
        },
        "id": "mRSJFxecdakG",
        "outputId": "59d18355-024a-4596-91ce-c434e0db1863"
      },
      "outputs": [
        {
          "name": "stdout",
          "output_type": "stream",
          "text": [
            "\n",
            " Basic Statistics:\n",
            "             labels\n",
            "count  29998.000000\n",
            "mean       0.500000\n",
            "std        0.500008\n",
            "min        0.000000\n",
            "25%        0.000000\n",
            "50%        0.500000\n",
            "75%        1.000000\n",
            "max        1.000000\n"
          ]
        }
      ],
      "source": [
        "#Basic Statistics\n",
        "print(\"\\n Basic Statistics:\")\n",
        "print(df.describe())"
      ]
    },
    {
      "cell_type": "code",
      "execution_count": 7,
      "metadata": {
        "colab": {
          "base_uri": "https://localhost:8080/",
          "height": 507
        },
        "id": "JMLXg48Qdla-",
        "outputId": "aca7b852-cb46-430b-d71a-146fe867fd4b"
      },
      "outputs": [
        {
          "name": "stdout",
          "output_type": "stream",
          "text": [
            "\n",
            " Class Distribution:\n"
          ]
        },
        {
          "data": {
            "image/png": "[encoded data removed]",
            "text/plain": [
              "<Figure size 640x480 with 1 Axes>"
            ]
          },
          "metadata": {},
          "output_type": "display_data"
        }
      ],
      "source": [
        "if 'labels' in df.columns:\n",
        "    print(\"\\n Class Distribution:\")\n",
        "    sns.countplot(x='labels', data=df)\n",
        "    plt.title('Distribution of the target variable')\n",
        "    plt.show()"
      ]
    },
    {
      "cell_type": "code",
      "execution_count": 8,
      "metadata": {
        "id": "IYZE8lHaeuqk"
      },
      "outputs": [],
      "source": [
        "def clean_text(text):\n",
        "  #Convert to lowercase\n",
        "  text=text.lower()\n",
        "  #remove punctuation and special characters\n",
        "  text=re.sub(r'[^\\w\\s]','',text)\n",
        "  #remove numbers\n",
        "  text=re.sub(r'\\d+','',text)\n",
        "  #remove extra spaces\n",
        "  text=re.sub(r'\\s+',' ',text).strip()\n",
        "  return text"
      ]
    },
    {
      "cell_type": "code",
      "execution_count": 9,
      "metadata": {
        "colab": {
          "base_uri": "https://localhost:8080/"
        },
        "id": "zVDTUiGqfpnb",
        "outputId": "c74d91c9-57c5-4aff-aa8b-6675689b34f4"
      },
      "outputs": [
        {
          "name": "stdout",
          "output_type": "stream",
          "text": [
            "\n",
            " Processed Data:\n",
            "                                               input  \\\n",
            "0    I am reading score of Mahler is Symphony No . .   \n",
            "1  I am not interested in cars or electric applia...   \n",
            "2         This is my homework for my English class .   \n",
            "3  In comparison , Canada is catches increased an...   \n",
            "4  Fortunately , my older sister is friend is a d...   \n",
            "\n",
            "                                        cleaned_text  \\\n",
            "0        i am reading score of mahler is symphony no   \n",
            "1  i am not interested in cars or electric applia...   \n",
            "2           this is my homework for my english class   \n",
            "3  in comparison canada is catches increased and ...   \n",
            "4  fortunately my older sister is friend is a den...   \n",
            "\n",
            "                                              tokens  \n",
            "0                 [reading, score, mahler, symphony]  \n",
            "1             [interested, car, electric, appliance]  \n",
            "2                         [homework, english, class]  \n",
            "3  [comparison, canada, catch, increased, decreas...  \n",
            "4      [fortunately, older, sister, friend, dentist]  \n"
          ]
        }
      ],
      "source": [
        "#Text Cleaning\n",
        "df['cleaned_text']= df['input'].apply(clean_text)\n",
        "#Tokenization\n",
        "df['tokens']=df['cleaned_text'].apply(word_tokenize)\n",
        "#remove stopwords\n",
        "stop_words=set(stopwords.words('english'))\n",
        "df['tokens']=df['tokens'].apply(lambda x: [word for word in x if word not in stop_words])\n",
        "#Lemmatization\n",
        "lemmatizer=WordNetLemmatizer()\n",
        "df['tokens']=df['tokens'].apply(lambda x: [lemmatizer.lemmatize(word) for word in x])\n",
        "#Checking the processed data\n",
        "print(\"\\n Processed Data:\")\n",
        "print(df[['input','cleaned_text','tokens']].head())\n",
        "\n"
      ]
    },
    {
      "cell_type": "code",
      "execution_count": 10,
      "metadata": {
        "colab": {
          "base_uri": "https://localhost:8080/"
        },
        "id": "CkrOHAbagdYn",
        "outputId": "04076296-19e2-4dd2-c5be-22e58cb83fe6"
      },
      "outputs": [
        {
          "name": "stdout",
          "output_type": "stream",
          "text": [
            "\n",
            "Training and testing data split complete:\n",
            "Training set size: 23998\n",
            "Testing set size: 6000\n"
          ]
        }
      ],
      "source": [
        "if 'labels' in df.columns:\n",
        "    X = df['cleaned_text']\n",
        "    y = df['labels']\n",
        "    X_train, X_test, y_train, y_test = train_test_split(X, y, test_size=0.2, random_state=42)\n",
        "    print(\"\\nTraining and testing data split complete:\")\n",
        "    print(f\"Training set size: {len(X_train)}\")\n",
        "    print(f\"Testing set size: {len(X_test)}\")"
      ]
    },
    {
      "cell_type": "code",
      "execution_count": 11,
      "metadata": {
        "id": "yHOHTNijhVfg"
      },
      "outputs": [],
      "source": [
        "df.to_csv('preprocessed_data.csv', index=False)"
      ]
    },
    {
      "cell_type": "markdown",
      "metadata": {
        "id": "8qN1rtCvmFGL"
      },
      "source": [
        "# **Feature Engineering**\n"
      ]
    },
    {
      "cell_type": "code",
      "execution_count": 12,
      "metadata": {
        "id": "CixLqjwnm9Cc"
      },
      "outputs": [],
      "source": [
        "df1=pd.read_csv('/content/preprocessed_data.csv')\n",
        "\n",
        "df1['tokens']=df1['tokens'].apply(eval)"
      ]
    },
    {
      "cell_type": "code",
      "execution_count": 13,
      "metadata": {
        "id": "Yfl-VnFfhap_"
      },
      "outputs": [],
      "source": [
        "#Part of Speech tagging\n",
        "def pos_tagging(tokens):\n",
        "    return nltk.pos_tag(tokens)\n"
      ]
    },
    {
      "cell_type": "code",
      "execution_count": 14,
      "metadata": {
        "colab": {
          "base_uri": "https://localhost:8080/"
        },
        "id": "SP7TwXNJmd6w",
        "outputId": "38574bb8-8dbc-4596-cfcb-48dd07a8f032"
      },
      "outputs": [
        {
          "name": "stdout",
          "output_type": "stream",
          "text": [
            "\n",
            "POS tagging complete.\n",
            "                                              tokens  \\\n",
            "0                 [reading, score, mahler, symphony]   \n",
            "1             [interested, car, electric, appliance]   \n",
            "2                         [homework, english, class]   \n",
            "3  [comparison, canada, catch, increased, decreas...   \n",
            "4      [fortunately, older, sister, friend, dentist]   \n",
            "\n",
            "                                            pos_tags  \n",
            "0  [(reading, VBG), (score, NN), (mahler, NN), (s...  \n",
            "1  [(interested, JJ), (car, NN), (electric, JJ), ...  \n",
            "2       [(homework, NN), (english, JJ), (class, NN)]  \n",
            "3  [(comparison, NN), (canada, JJ), (catch, NN), ...  \n",
            "4  [(fortunately, RB), (older, JJR), (sister, NN)...  \n"
          ]
        }
      ],
      "source": [
        "df1['pos_tags'] = df1['tokens'].apply(pos_tagging)\n",
        "print(\"\\nPOS tagging complete.\")\n",
        "print(df1[['tokens', 'pos_tags']].head())"
      ]
    },
    {
      "cell_type": "code",
      "execution_count": 15,
      "metadata": {
        "colab": {
          "base_uri": "https://localhost:8080/"
        },
        "id": "RX86hR4Gmjpv",
        "outputId": "c5bec517-ffcd-47e2-a6fe-5c138b2bda80"
      },
      "outputs": [
        {
          "name": "stdout",
          "output_type": "stream",
          "text": [
            "\n",
            "N-grams generation complete.\n",
            "                                              tokens  \\\n",
            "0                 [reading, score, mahler, symphony]   \n",
            "1             [interested, car, electric, appliance]   \n",
            "2                         [homework, english, class]   \n",
            "3  [comparison, canada, catch, increased, decreas...   \n",
            "4      [fortunately, older, sister, friend, dentist]   \n",
            "\n",
            "                                             bigrams  \\\n",
            "0  [(reading, score), (score, mahler), (mahler, s...   \n",
            "1  [(interested, car), (car, electric), (electric...   \n",
            "2            [(homework, english), (english, class)]   \n",
            "3  [(comparison, canada), (canada, catch), (catch...   \n",
            "4  [(fortunately, older), (older, sister), (siste...   \n",
            "\n",
            "                                            trigrams  \n",
            "0  [(reading, score, mahler), (score, mahler, sym...  \n",
            "1  [(interested, car, electric), (car, electric, ...  \n",
            "2                       [(homework, english, class)]  \n",
            "3  [(comparison, canada, catch), (canada, catch, ...  \n",
            "4  [(fortunately, older, sister), (older, sister,...  \n"
          ]
        }
      ],
      "source": [
        "#N-grams\n",
        "def generate_ngrams(tokens, n=2):\n",
        "    return list(ngrams(tokens, n))\n",
        "#Generate Bigrams\n",
        "df1['bigrams'] = df1['tokens'].apply(lambda x: generate_ngrams(x, n=2))\n",
        "#Generate Trigrams\n",
        "df1['trigrams'] = df1['tokens'].apply(lambda x: generate_ngrams(x, n=3))\n",
        "\n",
        "print(\"\\nN-grams generation complete.\")\n",
        "print(df1[['tokens', 'bigrams', 'trigrams']].head())\n"
      ]
    },
    {
      "cell_type": "code",
      "execution_count": 16,
      "metadata": {
        "colab": {
          "base_uri": "https://localhost:8080/"
        },
        "id": "SqoWamlapQ6k",
        "outputId": "e5c881b1-f761-44ac-ed71-5f9ecba70032"
      },
      "outputs": [
        {
          "name": "stdout",
          "output_type": "stream",
          "text": [
            "\n",
            "TF-IDF feature generation complete.\n",
            "   abandon  abandoned  abbreviation  abc  ability  able  abnormal  aboard  \\\n",
            "0      0.0        0.0           0.0  0.0      0.0   0.0       0.0     0.0   \n",
            "1      0.0        0.0           0.0  0.0      0.0   0.0       0.0     0.0   \n",
            "2      0.0        0.0           0.0  0.0      0.0   0.0       0.0     0.0   \n",
            "3      0.0        0.0           0.0  0.0      0.0   0.0       0.0     0.0   \n",
            "4      0.0        0.0           0.0  0.0      0.0   0.0       0.0     0.0   \n",
            "\n",
            "   abroad  absence  ...  zigzag  zip  zodiac  zoe  zombi  zombie  zone  zoo  \\\n",
            "0     0.0      0.0  ...     0.0  0.0     0.0  0.0    0.0     0.0   0.0  0.0   \n",
            "1     0.0      0.0  ...     0.0  0.0     0.0  0.0    0.0     0.0   0.0  0.0   \n",
            "2     0.0      0.0  ...     0.0  0.0     0.0  0.0    0.0     0.0   0.0  0.0   \n",
            "3     0.0      0.0  ...     0.0  0.0     0.0  0.0    0.0     0.0   0.0  0.0   \n",
            "4     0.0      0.0  ...     0.0  0.0     0.0  0.0    0.0     0.0   0.0  0.0   \n",
            "\n",
            "   zoom  zumba  \n",
            "0   0.0    0.0  \n",
            "1   0.0    0.0  \n",
            "2   0.0    0.0  \n",
            "3   0.0    0.0  \n",
            "4   0.0    0.0  \n",
            "\n",
            "[5 rows x 5000 columns]\n"
          ]
        }
      ],
      "source": [
        "#Term Frequency- Inverse Document Frequency\n",
        "df1['cleaned_text']=df1['tokens'].apply(lambda x: ' '.join(x))\n",
        "\n",
        "#intialize TF-IDF\n",
        "tfidf_vectorizer=TfidfVectorizer(max_features=5000)\n",
        "# Fit and Transform the cleaned text\n",
        "tfidf_matrix=tfidf_vectorizer.fit_transform(df1['cleaned_text'])\n",
        "#Convert the TF-IDF matrix to a DataFrame\n",
        "tfidf_df=pd.DataFrame(tfidf_matrix.toarray(), columns=tfidf_vectorizer.get_feature_names_out())\n",
        "print(\"\\nTF-IDF feature generation complete.\")\n",
        "print(tfidf_df.head())\n",
        "\n"
      ]
    },
    {
      "cell_type": "code",
      "execution_count": 17,
      "metadata": {
        "id": "x_xg8mDT8Xf0"
      },
      "outputs": [],
      "source": [
        "#Error Density (ratio of Incorrect words)\n",
        "def error_density(row):\n",
        "  error_count=sum([1 for tokens in row['tokens'] if token in row['errors']])\n",
        "  return error_count/len(row['tokens']) if len(row['tokens'])>0 else 0"
      ]
    },
    {
      "cell_type": "code",
      "execution_count": 18,
      "metadata": {
        "colab": {
          "base_uri": "https://localhost:8080/"
        },
        "id": "kGZAIo4187M7",
        "outputId": "8c660215-b343-42a6-bb70-194f0afff40f"
      },
      "outputs": [
        {
          "name": "stdout",
          "output_type": "stream",
          "text": [
            "\n",
            "Feature engineering complete. Dataset saved as 'feature_engineered_data.csv'.\n"
          ]
        }
      ],
      "source": [
        "df1.to_csv('feature_engineered_data.csv', index=False)\n",
        "print(\"\\nFeature engineering complete. Dataset saved as 'feature_engineered_data.csv'.\")"
      ]
    },
    {
      "cell_type": "markdown",
      "metadata": {
        "id": "62iBbD_u5pe7"
      },
      "source": [
        "# **Model Selection**"
      ]
    },
    {
      "cell_type": "code",
      "execution_count": 19,
      "metadata": {
        "id": "DLrew-p-9F_D"
      },
      "outputs": [],
      "source": [
        "import pandas as pd\n",
        "from sklearn.model_selection import train_test_split, GridSearchCV\n",
        "from sklearn.metrics import accuracy_score, precision_score, recall_score, f1_score,classification_report\n",
        "from sklearn.linear_model import LogisticRegression\n",
        "from sklearn.ensemble import RandomForestClassifier\n",
        "from sklearn.svm import SVC\n",
        "from sklearn.naive_bayes import MultinomialNB"
      ]
    },
    {
      "cell_type": "code",
      "execution_count": 20,
      "metadata": {
        "id": "yuB94lGv6p3r"
      },
      "outputs": [],
      "source": [
        "df2= pd.read_csv('/content/Feature_Engineered_GED_Data.csv')"
      ]
    },
    {
      "cell_type": "code",
      "execution_count": 21,
      "metadata": {
        "id": "o6KOEyO56uVE"
      },
      "outputs": [],
      "source": [
        "X= df2.drop(columns=['labels'])\n",
        "y=df2['labels']"
      ]
    },
    {
      "cell_type": "code",
      "execution_count": 22,
      "metadata": {
        "id": "Ga80dh5z8Y1e"
      },
      "outputs": [],
      "source": [
        "from sklearn.feature_extraction.text import TfidfVectorizer\n",
        "\n",
        "vectorizer = TfidfVectorizer()\n",
        "X = vectorizer.fit_transform(X['input'])"
      ]
    },
    {
      "cell_type": "code",
      "execution_count": 23,
      "metadata": {
        "id": "umGG37CA7LVQ"
      },
      "outputs": [],
      "source": [
        "X_train, X_test, y_train, y_test = train_test_split(X, y, test_size=0.2, random_state=42)\n",
        "#"
      ]
    },
    {
      "cell_type": "code",
      "execution_count": 24,
      "metadata": {
        "id": "uKfMSFGC7TCi"
      },
      "outputs": [],
      "source": [
        "models = {\n",
        "    'Logistic Regression': LogisticRegression(),\n",
        "    'Random Forest': RandomForestClassifier(),\n",
        "    'Support Vector Machine': SVC(),\n",
        "    'Naive Bayes': MultinomialNB()\n",
        "}"
      ]
    },
    {
      "cell_type": "code",
      "execution_count": 25,
      "metadata": {
        "id": "BeeuQCh37X2Y"
      },
      "outputs": [],
      "source": [
        "def evaluate_model(model, X_train, y_train, X_test, y_test):\n",
        "  model.fit(X_train, y_train)\n",
        "  y_pred = model.predict(X_test)\n",
        "  accuracy = accuracy_score(y_test, y_pred)\n",
        "  precision = precision_score(y_test, y_pred, average='weighted')\n",
        "  recall = recall_score(y_test, y_pred, average='weighted')\n",
        "  f1 = f1_score(y_test, y_pred, average='weighted')\n",
        "  return accuracy, precision, recall, f1\n"
      ]
    },
    {
      "cell_type": "code",
      "execution_count": 26,
      "metadata": {
        "colab": {
          "base_uri": "https://localhost:8080/"
        },
        "id": "p0Qq778b7v-T",
        "outputId": "1131fd3c-29d3-4f3b-af17-bef6b6486ef1"
      },
      "outputs": [
        {
          "name": "stdout",
          "output_type": "stream",
          "text": [
            "Logistic Regression Results:\n",
            "Accuracy: 0.3918\n",
            "Precision: 0.3920\n",
            "Recall: 0.3918\n",
            "F1 Score: 0.3916\n",
            "\n",
            "Random Forest Results:\n",
            "Accuracy: 0.2413\n",
            "Precision: 0.2413\n",
            "Recall: 0.2413\n",
            "F1 Score: 0.2411\n",
            "\n",
            "Support Vector Machine Results:\n",
            "Accuracy: 0.2843\n",
            "Precision: 0.2840\n",
            "Recall: 0.2843\n",
            "F1 Score: 0.2838\n",
            "\n",
            "Naive Bayes Results:\n",
            "Accuracy: 0.3720\n",
            "Precision: 0.3716\n",
            "Recall: 0.3720\n",
            "F1 Score: 0.3717\n",
            "\n"
          ]
        }
      ],
      "source": [
        "for model_name, model in models.items():\n",
        "  accuracy , precision, recall, f1 = evaluate_model(model, X_train, y_train, X_test, y_test)\n",
        "  print(f\"{model_name} Results:\")\n",
        "  print(f\"Accuracy: {accuracy:.4f}\")\n",
        "  print(f\"Precision: {precision:.4f}\")\n",
        "  print(f\"Recall: {recall:.4f}\")\n",
        "  print(f\"F1 Score: {f1:.4f}\\n\")"
      ]
    },
    {
      "cell_type": "code",
      "execution_count": 27,
      "metadata": {
        "id": "lDuNJ-gG8HJf"
      },
      "outputs": [],
      "source": [
        "from sklearn.model_selection import GridSearchCV\n",
        "\n",
        "# Define the parameter grid for GridSearchCV\n",
        "param_grid = {\n",
        "    'n_estimators': [50, 100],\n",
        "    'max_depth': [None, 10, 20],\n",
        "    'min_samples_split': [2, 5]\n",
        "}\n",
        "\n",
        "# Initialize GridSearchCV with the RandomForestClassifier\n",
        "grid_search = GridSearchCV(RandomForestClassifier(), param_grid=param_grid, cv=3, scoring='f1_weighted')\n",
        "\n",
        "# Fit the model using the training data\n",
        "grid_search.fit(X_train, y_train)\n",
        "\n",
        "# Get the best estimator (model) from the grid search\n",
        "\n",
        "best_model = grid_search.best_estimator_\n"
      ]
    },
    {
      "cell_type": "code",
      "execution_count": 28,
      "metadata": {
        "colab": {
          "base_uri": "https://localhost:8080/"
        },
        "id": "MQgrvA-hB2RK",
        "outputId": "84b9ec96-f704-447c-f088-9dfcde588226"
      },
      "outputs": [
        {
          "name": "stdout",
          "output_type": "stream",
          "text": [
            "Best Multinomial Naive Bayes Model Results:\n",
            "Accuracy: 0.3862\n",
            "Precision: 0.3858\n",
            "Recall: 0.3862\n",
            "F1-Score: 0.3859\n",
            "\n",
            "Classification Report:\n",
            "               precision    recall  f1-score   support\n",
            "\n",
            "           0       0.37      0.36      0.37      2954\n",
            "           1       0.40      0.41      0.40      3046\n",
            "\n",
            "    accuracy                           0.39      6000\n",
            "   macro avg       0.39      0.39      0.39      6000\n",
            "weighted avg       0.39      0.39      0.39      6000\n",
            "\n"
          ]
        }
      ],
      "source": [
        "from sklearn.naive_bayes import MultinomialNB\n",
        "from sklearn.model_selection import GridSearchCV\n",
        "from sklearn.metrics import accuracy_score, precision_score, recall_score, f1_score, classification_report\n",
        "\n",
        "# Define the parameter grid for GridSearchCV (alpha is the main parameter for tuning)\n",
        "param_grid = {\n",
        "    'alpha': [0.1, 0.5, 1.0, 2.0, 5.0]\n",
        "}\n",
        "\n",
        "# Initialize GridSearchCV with the MultinomialNB\n",
        "grid_search_nb = GridSearchCV(MultinomialNB(), param_grid=param_grid, cv=3, scoring='f1_weighted')\n",
        "\n",
        "# Fit the model using the training data\n",
        "grid_search_nb.fit(X_train, y_train)\n",
        "\n",
        "# Get the best estimator (model) from the grid search\n",
        "best_nb_model = grid_search_nb.best_estimator_\n",
        "\n",
        "# Make predictions on the test set\n",
        "y_pred_nb = best_nb_model.predict(X_test)\n",
        "\n",
        "# Calculate evaluation metrics\n",
        "accuracy_nb = accuracy_score(y_test, y_pred_nb)\n",
        "precision_nb = precision_score(y_test, y_pred_nb, average='weighted')\n",
        "recall_nb = recall_score(y_test, y_pred_nb, average='weighted')\n",
        "f1_nb = f1_score(y_test, y_pred_nb, average='weighted')\n",
        "\n",
        "# Print evaluation results\n",
        "print(\"Best Multinomial Naive Bayes Model Results:\")\n",
        "print(f\"Accuracy: {accuracy_nb:.4f}\")\n",
        "print(f\"Precision: {precision_nb:.4f}\")\n",
        "print(f\"Recall: {recall_nb:.4f}\")\n",
        "print(f\"F1-Score: {f1_nb:.4f}\")\n",
        "print(\"\\nClassification Report:\\n\", classification_report(y_test, y_pred_nb))\n"
      ]
    },
    {
      "cell_type": "code",
      "execution_count": 29,
      "metadata": {
        "colab": {
          "base_uri": "https://localhost:8080/"
        },
        "id": "e72y6Fs3-lFS",
        "outputId": "fa82a12c-cfc5-4bba-fa00-ee19c96b7634"
      },
      "outputs": [
        {
          "name": "stdout",
          "output_type": "stream",
          "text": [
            "Best Model (Random Forest) Results After Hyperparameter Tuning:\n",
            "Accuracy: 0.4510\n",
            "Precision: 0.4414\n",
            "Recall: 0.4510\n",
            "F1-Score: 0.4191\n",
            "\n",
            "Classification Report:\n",
            "               precision    recall  f1-score   support\n",
            "\n",
            "           0       0.46      0.69      0.55      2954\n",
            "           1       0.42      0.22      0.29      3046\n",
            "\n",
            "    accuracy                           0.45      6000\n",
            "   macro avg       0.44      0.45      0.42      6000\n",
            "weighted avg       0.44      0.45      0.42      6000\n",
            "\n"
          ]
        }
      ],
      "source": [
        "\n",
        "y_pred_best = best_model.predict(X_test)\n",
        "print(\"Best Model (Random Forest) Results After Hyperparameter Tuning:\")\n",
        "print(f\"Accuracy: {accuracy_score(y_test, y_pred_best):.4f}\")\n",
        "print(f\"Precision: {precision_score(y_test, y_pred_best, average='weighted'):.4f}\")\n",
        "print(f\"Recall: {recall_score(y_test, y_pred_best, average='weighted'):.4f}\")\n",
        "print(f\"F1-Score: {f1_score(y_test, y_pred_best, average='weighted'):.4f}\")\n",
        "print(\"\\nClassification Report:\\n\", classification_report(y_test, y_pred_best))"
      ]
    },
    {
      "cell_type": "markdown",
      "metadata": {},
      "source": [
        "# **FlowChart**"
      ]
    },
    {
      "cell_type": "code",
      "execution_count": 31,
      "metadata": {
        "colab": {
          "base_uri": "https://localhost:8080/",
          "height": 53
        },
        "id": "SycL9I2c3J8q",
        "outputId": "78fef3e5-9be3-4850-a7ed-59f2ec85fe36"
      },
      "outputs": [
        {
          "name": "stdout",
          "output_type": "stream",
          "text": [
            "Requirement already satisfied: graphviz in /usr/local/lib/python3.10/dist-packages (0.20.3)\n"
          ]
        },
        {
          "data": {
            "application/vnd.google.colaboratory.intrinsic+json": {
              "type": "string"
            },
            "text/plain": [
              "'nlp_workflow_1.png'"
            ]
          },
          "execution_count": 31,
          "metadata": {},
          "output_type": "execute_result"
        }
      ],
      "source": [
        "# Install the necessary library if not already installed\n",
        "!pip install graphviz\n",
        "\n",
        "from graphviz import Digraph\n",
        "\n",
        "# Create a new directed graph\n",
        "dot = Digraph()\n",
        "\n",
        "# Add nodes for each step in the workflow\n",
        "dot.node('A', 'Dataset\\n(Data with correct and incorrect grammar)')\n",
        "dot.node('B', 'Data Preprocessing\\n(Text cleaning, tokenization, stopwords removal, lemmatization)')\n",
        "dot.node('C', 'Feature Extraction\\n(TF-IDF Vectorization)')\n",
        "dot.node('D', 'Model Training\\n(Random Forest Classifier)')\n",
        "dot.node('E', 'Output\\n(Classification Report with Accuracy, Precision, Recall, F1-score)')\n",
        "\n",
        "# Define the edges (connections) between the steps\n",
        "dot.edge('A', 'B', label='Data Processing')\n",
        "dot.edge('B', 'C', label='Extract Features')\n",
        "dot.edge('C', 'D', label='Train Model')\n",
        "dot.edge('D', 'E', label='Evaluate Model')\n",
        "\n",
        "# Render the flowchart and display it\n",
        "dot.render('nlp_workflow_1', format='png', view=True)\n"
      ]
    },
    {
      "cell_type": "code",
      "execution_count": null,
      "metadata": {
        "id": "QOLjhgUT3MWg"
      },
      "outputs": [],
      "source": []
    }
  ],
  "metadata": {
    "colab": {
      "provenance": []
    },
    "kernelspec": {
      "display_name": "Python 3",
      "name": "python3"
    },
    "language_info": {
      "name": "python"
    }
  },
  "nbformat": 4,
  "nbformat_minor": 0
}
